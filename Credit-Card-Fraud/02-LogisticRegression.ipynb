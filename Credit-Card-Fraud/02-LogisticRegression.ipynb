{
 "cells": [
  {
   "cell_type": "code",
   "execution_count": 1,
   "metadata": {},
   "outputs": [],
   "source": [
    "import matplotlib.pyplot as plt\n",
    "import numpy as np\n",
    "import pandas as pd\n",
    "import seaborn as sns; sns.set()\n",
    "from imblearn.metrics import classification_report_imbalanced\n",
    "from imblearn.over_sampling import SMOTE\n",
    "from imblearn.pipeline import make_pipeline as imb_make_pipeline\n",
    "from imblearn.under_sampling import NearMiss\n",
    "from sklearn.feature_selection import chi2, SelectKBest\n",
    "from sklearn.linear_model import LogisticRegression\n",
    "from sklearn.metrics import accuracy_score, average_precision_score\n",
    "from sklearn.metrics import classification_report, confusion_matrix\n",
    "from sklearn.metrics import f1_score, precision_recall_curve\n",
    "from sklearn.metrics import precision_score, recall_score\n",
    "from sklearn.model_selection import StratifiedKFold, RandomizedSearchCV\n",
    "from sklearn.model_selection import StratifiedShuffleSplit, train_test_split\n",
    "from sklearn.pipeline import make_pipeline\n",
    "from sklearn.preprocessing import StandardScaler, RobustScaler"
   ]
  },
  {
   "cell_type": "code",
   "execution_count": 2,
   "metadata": {},
   "outputs": [],
   "source": [
    "df = pd.read_csv('data/creditcard.csv')"
   ]
  },
  {
   "cell_type": "code",
   "execution_count": 3,
   "metadata": {},
   "outputs": [],
   "source": [
    "# Transform raw time to hour of the day\n",
    "# Time starts at 0 and is recorded in seconds since t0\n",
    "df.loc[:, 'hour_of_day'] = df.Time.apply(lambda x: x // (60 * 60))\n",
    "day_2_idx = df.hour_of_day > 23.0\n",
    "df.loc[day_2_idx, 'hour_of_day'] = df.loc[day_2_idx, 'hour_of_day'].apply(lambda x: x - 24.0)"
   ]
  },
  {
   "cell_type": "code",
   "execution_count": 4,
   "metadata": {},
   "outputs": [],
   "source": [
    "# Since 'Time' and 'Amount' haven't been scaled and transformed in PCA,\n",
    "# these need to be similarly scaled as the other features\n",
    "s_scaler = StandardScaler()\n",
    "r_scaler = RobustScaler() # Robust to outliers\n",
    "\n",
    "amounts = df.Amount.values.reshape(-1,1)\n",
    "#times = df.Time.values.reshape(-1,1)\n",
    "times = df.hour_of_day.values.reshape(-1,1)\n",
    "df.loc[:, 'scaled_amount'] = r_scaler.fit_transform(amounts)\n",
    "df.loc[:, 'scaled_time'] = s_scaler.fit_transform(times)\n",
    "\n",
    "df.drop(['Time', 'Amount', 'hour_of_day'], axis=1, inplace=True)"
   ]
  },
  {
   "cell_type": "code",
   "execution_count": 5,
   "metadata": {},
   "outputs": [],
   "source": [
    "y = df.Class\n",
    "X = df.drop('Class', axis=1)"
   ]
  },
  {
   "cell_type": "code",
   "execution_count": 6,
   "metadata": {},
   "outputs": [],
   "source": [
    "X_train, X_test, y_train, y_test = train_test_split(X, y, test_size=0.2, stratify=y, random_state=0)"
   ]
  },
  {
   "cell_type": "code",
   "execution_count": 7,
   "metadata": {},
   "outputs": [],
   "source": [
    "smote = SMOTE(sampling_strategy='minority')\n",
    "X_over, y_over = smote.fit_resample(X_train, y_train)\n",
    "df_over = pd.DataFrame(X_over, columns=X_train.columns)\n",
    "df_over.loc[:, 'Class'] = y_over"
   ]
  },
  {
   "cell_type": "code",
   "execution_count": 8,
   "metadata": {},
   "outputs": [
    {
     "name": "stdout",
     "output_type": "stream",
     "text": [
      "V14              0.762782\n",
      "V4               0.707540\n",
      "V11              0.702877\n",
      "V12              0.686337\n",
      "V10              0.642165\n",
      "V16              0.612571\n",
      "V17              0.573374\n",
      "V9               0.572965\n",
      "V3               0.563415\n",
      "V2               0.505216\n",
      "V18              0.481145\n",
      "V7               0.479918\n",
      "V1               0.423995\n",
      "V6               0.407635\n",
      "V5               0.393493\n",
      "V19              0.302669\n",
      "V20              0.199898\n",
      "scaled_time      0.193058\n",
      "V21              0.136716\n",
      "V28              0.118087\n",
      "V24              0.094208\n",
      "V27              0.090505\n",
      "V25              0.062652\n",
      "V26              0.059335\n",
      "V8               0.057387\n",
      "scaled_amount    0.055708\n",
      "V13              0.037012\n",
      "V15              0.023131\n",
      "V22              0.007363\n",
      "V23              0.005877\n",
      "Name: Class, dtype: float64\n"
     ]
    }
   ],
   "source": [
    "corrs_over = np.abs(df_over.corr().Class).sort_values(ascending=False)\n",
    "corrs_over = corrs_over.drop('Class')\n",
    "print(corrs_over)"
   ]
  },
  {
   "cell_type": "code",
   "execution_count": 9,
   "metadata": {},
   "outputs": [
    {
     "data": {
      "text/plain": [
       "['V14',\n",
       " 'V4',\n",
       " 'V11',\n",
       " 'V12',\n",
       " 'V10',\n",
       " 'V16',\n",
       " 'V17',\n",
       " 'V9',\n",
       " 'V3',\n",
       " 'V2',\n",
       " 'V18',\n",
       " 'V7',\n",
       " 'V1',\n",
       " 'V6',\n",
       " 'V5',\n",
       " 'V19']"
      ]
     },
     "execution_count": 9,
     "metadata": {},
     "output_type": "execute_result"
    }
   ],
   "source": [
    "# Remove any feature with a correlation less than threshold\n",
    "thresh = 0.25\n",
    "(idx,) = np.where(corrs_over > thresh)\n",
    "features = corrs_over[idx]\n",
    "features = features.index.tolist()\n",
    "features"
   ]
  },
  {
   "cell_type": "code",
   "execution_count": 10,
   "metadata": {},
   "outputs": [],
   "source": [
    "df_lr = df_over.loc[:, [*features, 'Class']].copy()\n",
    "X_lr = df_lr.drop('Class', axis=1)\n",
    "y_lr = df_lr.Class"
   ]
  },
  {
   "cell_type": "code",
   "execution_count": 11,
   "metadata": {},
   "outputs": [
    {
     "data": {
      "text/plain": [
       "LogisticRegression(C=1.0, class_weight=None, dual=False, fit_intercept=True,\n",
       "                   intercept_scaling=1, l1_ratio=None, max_iter=500,\n",
       "                   multi_class='warn', n_jobs=None, penalty='l2',\n",
       "                   random_state=None, solver='lbfgs', tol=0.0001, verbose=0,\n",
       "                   warm_start=False)"
      ]
     },
     "execution_count": 11,
     "metadata": {},
     "output_type": "execute_result"
    }
   ],
   "source": [
    "clf = LogisticRegression(solver='lbfgs', max_iter=500)\n",
    "clf.fit(X_lr, y_lr)"
   ]
  },
  {
   "cell_type": "code",
   "execution_count": 12,
   "metadata": {},
   "outputs": [],
   "source": [
    "X_test_lr = X_test.loc[:, features].copy()"
   ]
  },
  {
   "cell_type": "code",
   "execution_count": 13,
   "metadata": {},
   "outputs": [],
   "source": [
    "preds = clf.predict(X_test_lr)\n",
    "preds_proba = clf.predict_proba(X_test_lr)"
   ]
  },
  {
   "cell_type": "code",
   "execution_count": 14,
   "metadata": {},
   "outputs": [
    {
     "data": {
      "image/png": "[encoded data removed]",
      "text/plain": [
       "<Figure size 432x288 with 1 Axes>"
      ]
     },
     "metadata": {
      "needs_background": "light"
     },
     "output_type": "display_data"
    }
   ],
   "source": [
    "ap = average_precision_score(y_test, preds_proba[:,1])\n",
    "precision, recall, thrs = precision_recall_curve(y_test, preds_proba[:,1])\n",
    "plt.step(recall, precision, color='b', alpha=0.2, where='post')\n",
    "plt.fill_between(recall, precision, step='post', alpha=0.2, color='b')\n",
    "plt.xlabel('Recall')\n",
    "plt.ylabel('Precision')\n",
    "plt.title(f'AP score: {ap}')\n",
    "plt.show()"
   ]
  },
  {
   "cell_type": "code",
   "execution_count": 15,
   "metadata": {},
   "outputs": [
    {
     "data": {
      "text/plain": [
       "{'C': 1.0,\n",
       " 'class_weight': None,\n",
       " 'dual': False,\n",
       " 'fit_intercept': True,\n",
       " 'intercept_scaling': 1,\n",
       " 'l1_ratio': None,\n",
       " 'max_iter': 500,\n",
       " 'multi_class': 'warn',\n",
       " 'n_jobs': None,\n",
       " 'penalty': 'l2',\n",
       " 'random_state': None,\n",
       " 'solver': 'lbfgs',\n",
       " 'tol': 0.0001,\n",
       " 'verbose': 0,\n",
       " 'warm_start': False}"
      ]
     },
     "execution_count": 15,
     "metadata": {},
     "output_type": "execute_result"
    }
   ],
   "source": [
    "clf.get_params()"
   ]
  },
  {
   "cell_type": "code",
   "execution_count": 16,
   "metadata": {},
   "outputs": [],
   "source": [
    "# Use RandomizedSearchCV to find optimal hyperparameters\n",
    "params = {'penalty': ['l1', 'l2'],\n",
    "          'C': [0.001, 0.01, 0.1, 1.0, 10, 100, 1000]}\n",
    "rand_lr = RandomizedSearchCV(LogisticRegression(solver='saga', max_iter=500), params, n_iter=10, cv=3)\n",
    "rand_lr.fit(X_lr, y_lr)\n",
    "preds = rand_lr.best_estimator_.predict_proba(X_test_lr)"
   ]
  },
  {
   "cell_type": "code",
   "execution_count": 17,
   "metadata": {},
   "outputs": [
    {
     "data": {
      "text/plain": [
       "{'penalty': 'l2', 'C': 1000}"
      ]
     },
     "execution_count": 17,
     "metadata": {},
     "output_type": "execute_result"
    }
   ],
   "source": [
    "rand_lr.best_params_"
   ]
  },
  {
   "cell_type": "code",
   "execution_count": 18,
   "metadata": {},
   "outputs": [
    {
     "data": {
      "image/png": "[encoded data removed]",
      "text/plain": [
       "<Figure size 432x288 with 1 Axes>"
      ]
     },
     "metadata": {
      "needs_background": "light"
     },
     "output_type": "display_data"
    }
   ],
   "source": [
    "ap = average_precision_score(y_test, preds[:,1])\n",
    "precision, recall, thrs = precision_recall_curve(y_test, preds[:,1])\n",
    "plt.step(recall, precision, color='b', alpha=0.2, where='post')\n",
    "plt.fill_between(recall, precision, step='post', alpha=0.2, color='b')\n",
    "plt.xlabel('Recall')\n",
    "plt.ylabel('Precision')\n",
    "plt.title(f'AP score: {ap}')\n",
    "plt.show()"
   ]
  },
  {
   "cell_type": "markdown",
   "metadata": {},
   "source": [
    "Elasticnet is fractional L1 and L2. Try a search only over elasticnet with a l1_ratio from 0 to 1. It would also be good to see the performance with penalty='none'."
   ]
  },
  {
   "cell_type": "code",
   "execution_count": 19,
   "metadata": {},
   "outputs": [],
   "source": [
    "# Use RandomizedSearchCV to find optimal hyperparameters\n",
    "params = {'penalty': ['elasticnet'],\n",
    "          'C': [0.001, 0.01, 0.1, 1.0, 10, 100, 1000],\n",
    "          'l1_ratio': [0, 0.2, 0.4, 0.6, 0.8, 1.0]}\n",
    "rand_lr = RandomizedSearchCV(LogisticRegression(solver='saga', max_iter=500), params, n_iter=10, cv=3)\n",
    "rand_lr.fit(X_lr, y_lr)\n",
    "preds = rand_lr.best_estimator_.predict_proba(X_test_lr)"
   ]
  },
  {
   "cell_type": "code",
   "execution_count": 20,
   "metadata": {},
   "outputs": [
    {
     "data": {
      "text/plain": [
       "{'penalty': 'elasticnet', 'l1_ratio': 1.0, 'C': 10}"
      ]
     },
     "execution_count": 20,
     "metadata": {},
     "output_type": "execute_result"
    }
   ],
   "source": [
    "rand_lr.best_params_"
   ]
  },
  {
   "cell_type": "code",
   "execution_count": 21,
   "metadata": {},
   "outputs": [
    {
     "data": {
      "image/png": "[encoded data removed]",
      "text/plain": [
       "<Figure size 432x288 with 1 Axes>"
      ]
     },
     "metadata": {
      "needs_background": "light"
     },
     "output_type": "display_data"
    }
   ],
   "source": [
    "ap = average_precision_score(y_test, preds[:,1])\n",
    "precision, recall, thrs = precision_recall_curve(y_test, preds[:,1])\n",
    "plt.step(recall, precision, color='b', alpha=0.2, where='post')\n",
    "plt.fill_between(recall, precision, step='post', alpha=0.2, color='b')\n",
    "plt.xlabel('Recall')\n",
    "plt.ylabel('Precision')\n",
    "plt.title(f'AP score: {ap}')\n",
    "plt.show()"
   ]
  },
  {
   "cell_type": "code",
   "execution_count": 22,
   "metadata": {},
   "outputs": [
    {
     "data": {
      "text/plain": [
       "{'C': 1.0,\n",
       " 'class_weight': None,\n",
       " 'dual': False,\n",
       " 'fit_intercept': True,\n",
       " 'intercept_scaling': 1,\n",
       " 'l1_ratio': None,\n",
       " 'max_iter': 500,\n",
       " 'multi_class': 'warn',\n",
       " 'n_jobs': None,\n",
       " 'penalty': 'l2',\n",
       " 'random_state': None,\n",
       " 'solver': 'saga',\n",
       " 'tol': 0.0001,\n",
       " 'verbose': 0,\n",
       " 'warm_start': False}"
      ]
     },
     "execution_count": 22,
     "metadata": {},
     "output_type": "execute_result"
    }
   ],
   "source": [
    "# See how saga performs with defaults compared to lbfgs\n",
    "lr = LogisticRegression(solver='saga', max_iter=500)\n",
    "lr.fit(X_lr, y_lr)\n",
    "preds = lr.predict_proba(X_test_lr)\n",
    "lr.get_params()"
   ]
  },
  {
   "cell_type": "code",
   "execution_count": 23,
   "metadata": {},
   "outputs": [
    {
     "data": {
      "image/png": "[encoded data removed]",
      "text/plain": [
       "<Figure size 432x288 with 1 Axes>"
      ]
     },
     "metadata": {
      "needs_background": "light"
     },
     "output_type": "display_data"
    }
   ],
   "source": [
    "ap = average_precision_score(y_test, preds[:,1])\n",
    "precision, recall, thrs = precision_recall_curve(y_test, preds[:,1])\n",
    "plt.step(recall, precision, color='b', alpha=0.2, where='post')\n",
    "plt.fill_between(recall, precision, step='post', alpha=0.2, color='b')\n",
    "plt.xlabel('Recall')\n",
    "plt.ylabel('Precision')\n",
    "plt.title(f'AP score: {ap}')\n",
    "plt.show()"
   ]
  },
  {
   "cell_type": "code",
   "execution_count": 25,
   "metadata": {},
   "outputs": [
    {
     "data": {
      "text/plain": [
       "array([[55519,  1345],\n",
       "       [   13,    85]], dtype=int64)"
      ]
     },
     "execution_count": 25,
     "metadata": {},
     "output_type": "execute_result"
    }
   ],
   "source": [
    "cm = confusion_matrix(y_test, lr.predict(X_test_lr))\n",
    "cm"
   ]
  },
  {
   "cell_type": "markdown",
   "metadata": {},
   "source": [
    "Overall, logistic regression is fairly reasonable. It's quick to train but there are still plenty of false positives. There's a fairly low false negative rate which might be acceptable depending on the business requirements. Customers would likely be upset with the size of false positives but the company is likely able to use this model while developing a better system."
   ]
  },
  {
   "cell_type": "code",
   "execution_count": null,
   "metadata": {},
   "outputs": [],
   "source": []
  }
 ],
 "metadata": {
  "kernelspec": {
   "display_name": "Python 3",
   "language": "python",
   "name": "python3"
  },
  "language_info": {
   "codemirror_mode": {
    "name": "ipython",
    "version": 3
   },
   "file_extension": ".py",
   "mimetype": "text/x-python",
   "name": "python",
   "nbconvert_exporter": "python",
   "pygments_lexer": "ipython3",
   "version": "3.6.9"
  }
 },
 "nbformat": 4,
 "nbformat_minor": 4
}
